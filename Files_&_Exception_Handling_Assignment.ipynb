{
  "nbformat": 4,
  "nbformat_minor": 0,
  "metadata": {
    "colab": {
      "provenance": []
    },
    "kernelspec": {
      "name": "python3",
      "display_name": "Python 3"
    },
    "language_info": {
      "name": "python"
    }
  },
  "cells": [
    {
      "cell_type": "code",
      "execution_count": null,
      "metadata": {
        "id": "U6JhTDCLMhAC"
      },
      "outputs": [],
      "source": []
    },
    {
      "cell_type": "markdown",
      "source": [
        "#1.What is the difference between interpreted and compiled languages?\n",
        "- In Compile languages teh source code is transformed into machine code by compiler and then executed.\n",
        "In Interpreted languages the source code is executed line by line without a separate compilation step to convert into machine code.\n"
      ],
      "metadata": {
        "id": "rEJ_p7yoNLMR"
      }
    },
    {
      "cell_type": "markdown",
      "source": [
        "#2.What is exception handling in Python?\n",
        "- Exception handling in Python is a process of resolving errors that occur in a program. This involves locating exceptions, understanding what caused them, and then responding accordingly. Exceptions are errors that occur at runtime when the program is being executed."
      ],
      "metadata": {
        "id": "Yb8jFVrwOeqK"
      }
    },
    {
      "cell_type": "markdown",
      "source": [
        "#3.What is the purpose of the finally block in exception handling?\n",
        "- The purpose of the finally block in exception handling is to execute code that is important to run regardless of whether an exception occurs."
      ],
      "metadata": {
        "id": "NXtkRpCBPjZ4"
      }
    },
    {
      "cell_type": "markdown",
      "source": [
        "#4. What is logging in Python?\n",
        "- Logging records the state and the flow of the program. It is useful for understanding , monitoring and debugging of the code."
      ],
      "metadata": {
        "id": "P65ANwgGRAlb"
      }
    },
    {
      "cell_type": "markdown",
      "source": [
        "#5.  What is the significance of the __del__ method in Python?\n",
        "- In Python, the __del__ method is a special method that is called automatically when there are no more references to the object left in the program, allowing for any necessary cleanup or resource release before the object is removed from memory."
      ],
      "metadata": {
        "id": "ylsQGAxtRsRd"
      }
    },
    {
      "cell_type": "markdown",
      "source": [
        "#6. What is the difference between import and from ... import in Python?\n",
        "- In general,the import statement is used when many attributes from a module is to be used, or when the module name is short and easy to remember.from ... import statement is used when a few attributes from a module is to be used , or when the module name is long and hard to remember."
      ],
      "metadata": {
        "id": "uyc74jb_SmVk"
      }
    },
    {
      "cell_type": "markdown",
      "source": [
        "#7.How can you handle multiple exceptions in Python ?\n",
        "- To handle multiple exceptions , multiple except block within a try statement is to be used."
      ],
      "metadata": {
        "id": "UoaT_ajcT02-"
      }
    },
    {
      "cell_type": "markdown",
      "source": [
        "#8.What is the purpose of the with statement when handling files in Python ?\n",
        "- with statment in Python ensures that the file is closed properly after the block of code is executed . It helps to clean system resources and avoid issues like data corruption or file lock.\n"
      ],
      "metadata": {
        "id": "odjS5lSDUpV0"
      }
    },
    {
      "cell_type": "markdown",
      "source": [
        "#9.What is the difference between multithreading and multiprocessing?\n",
        "- Multithreading uses a single processor to run multiple threads simultaneously. Each thread runs a process, and all threads share the same process's resources. Multithreading is good for tasks that need to share data quickly.\n",
        "Multiprocessing uses multiple processors to run multiple processes simultaneously. Each process has its own dedicated resources. Multiprocessing is good for CPU-bound tasks.\n",
        "\n"
      ],
      "metadata": {
        "id": "dVygND8DVvbH"
      }
    },
    {
      "cell_type": "markdown",
      "source": [
        "#10.What are the advantages of using logging in a program?\n",
        "- Logging helps in understanding how the code is changing over time. It is very much helpful for exception handling in complex codes."
      ],
      "metadata": {
        "id": "aJJ4linGV1jO"
      }
    },
    {
      "cell_type": "markdown",
      "source": [
        "#11.What is memory management in Python?\n",
        "- Memory management in Python is the process of allocating and freeing up memory for programs to run efficiently. Python automatically manages memory, which can improve program performance and reduce space complexity.\n"
      ],
      "metadata": {
        "id": "6DG_HNERWrQd"
      }
    },
    {
      "cell_type": "markdown",
      "source": [
        "#12. What are the basic steps involved in exception handling in Python?\n",
        "- The steps are as follows :\n",
        " 1.The try clause (the statement(s) between the try and except keywords) is executed.\n",
        "\n",
        " 2.If no exception occurs, the except clause is skipped and execution of the try statement is finished.\n",
        "\n",
        " 3. If an exception occurs during execution of the try clause, the rest of the clause is skipped. Then, if its type matches the exception named after the except keyword, the except clause is executed, and then execution continues after the try/except block.\n",
        "\n",
        " 4.If an exception occurs which does not match the exception named in the except clause, it is passed on to outer try statements. If no exception handler is found, it is an unhandled exception and execution stops with an error message."
      ],
      "metadata": {
        "id": "Khrk2LA9Wv8b"
      }
    },
    {
      "cell_type": "markdown",
      "source": [
        "#13. Why is memory management important in Python?\n",
        "- Memory management in Python is important because it helps programs run efficiently and prevents memory leaks. This allows to focus on writing code instead of worrying about memory allocation."
      ],
      "metadata": {
        "id": "HtQLJjA4jt1r"
      }
    },
    {
      "cell_type": "markdown",
      "source": [
        "#14. What is the role of try and except in exception handling?\n",
        "- The try block tests the code for errors.\n",
        "  If an exception occurs, the control goes to the except block.\n",
        "  The except block handles the error.\n",
        "  If no exception occurs, the except block is skipped."
      ],
      "metadata": {
        "id": "F3BlRhyRkJsE"
      }
    },
    {
      "cell_type": "markdown",
      "source": [
        "#15.  How does Python's garbage collection system work0\n",
        "- The garbage collector in Python locates and releases memory occupied by objects that can no longer be accessed or referenced by the code."
      ],
      "metadata": {
        "id": "fU9_AxvFr4lL"
      }
    },
    {
      "cell_type": "markdown",
      "source": [
        "#16. What is the purpose of the else block in exception handling?\n",
        "- The purpose of else block in exception handling is to execute code when 'try' statementb is successful and code does not enter into the exception block."
      ],
      "metadata": {
        "id": "N68b-PdzYVs-"
      }
    },
    {
      "cell_type": "markdown",
      "source": [
        "#17.What are the common logging levels in Python?\n",
        "- logging levels used in Python are listed below in increasing order of priority:\n",
        "1. DEBUG\n",
        "2. INFO\n",
        "3. WARNING\n",
        "4. ERROR\n",
        "5. CRITICAL"
      ],
      "metadata": {
        "id": "qE9t_eQaZc43"
      }
    },
    {
      "cell_type": "markdown",
      "source": [
        "#18.What is the difference between os.fork() and multiprocessing in Python?"
      ],
      "metadata": {
        "id": "YQaoTx1asQ22"
      }
    },
    {
      "cell_type": "markdown",
      "source": [
        "#19. What is the importance of closing a file in Python?\n",
        "- Closing a file object in Python is crucial to prevent resource leaks and ensure that changes are saved.\n"
      ],
      "metadata": {
        "id": "JCBJHKOZaGQI"
      }
    },
    {
      "cell_type": "markdown",
      "source": [
        "#20. What is the difference between file.read() and file.readline() in Python?\n",
        "- file.read() is used to read all the contents written in the file.\n",
        "  file.readline() is used to read only the firstline of the content written in the file.\n",
        "  Example :\n",
        "  f3= open(\"file1.txt\",\"r\")\n",
        "  print(f3.read())\n",
        "  f3.close()\n",
        "\n",
        "  Output of the above code is : # Full content of the file will be shown\n",
        "  Please do yoga everyday\n",
        "  Take out atleast 30 mins from your busy schedule\n",
        "  Yoga keeps our body and mind healthy\n",
        "  We should take care of our mind as well as our body\n",
        "\n",
        "  f3= open(\"file1.txt\",\"r\")\n",
        "  print(f3.readline())\n",
        "  f3.close()\n",
        "\n",
        "  Output of the above code is : # Only the first line of the content                                   will be shown\n",
        "  Please do yoga everyday"
      ],
      "metadata": {
        "id": "Ne0jU47mesbA"
      }
    },
    {
      "cell_type": "markdown",
      "source": [
        "# 21. What is the logging module in Python used for?\n",
        "- The \"logging\" module in Python is used to track and record events that occur within a running program, allowing developers to capture information about errors, warnings, and other significant happenings, which is particularly helpful for debugging and monitoring the application's behavior during execution."
      ],
      "metadata": {
        "id": "GlTH7bhQg_WJ"
      }
    },
    {
      "cell_type": "markdown",
      "source": [
        "#22. What is the os module in Python used for in file handling?\n",
        "- The Python OS module is essential for file-related tasks, enabling efficient file and directory management in programs. It allows to easily handle the current working directory, create and delete directories, list files and folders, and perform file operations."
      ],
      "metadata": {
        "id": "NImbPQi_iO-Q"
      }
    },
    {
      "cell_type": "markdown",
      "source": [
        "#23. What are the challenges associated with memory management in Python0\n",
        "- Memory leaks\n",
        "    When memory is created for a variable, object, or reference and not deleted, it can lead to memory leaks. This can cause issues for programs like servers and daemons that never terminate.\n",
        "  Performance degradation\n",
        "    Without proper garbage collection, unused memory can accumulate over time, leading to performance degradation.\n",
        "  Slower runtimes\n",
        "    Python may hold freed memory in the interpreter instead of freeing it up for the operating system, which can slow down program runtimes."
      ],
      "metadata": {
        "id": "dZedlECoimbD"
      }
    },
    {
      "cell_type": "markdown",
      "source": [
        "#24.How do you raise an exception manually in Python?\n",
        "-  Python raise Keyword is used to manually raise exceptions or errors. The raise keyword raises an error and stops the control flow of the program."
      ],
      "metadata": {
        "id": "AuSg1-syivBx"
      }
    },
    {
      "cell_type": "markdown",
      "source": [
        "#25.Why is it important to use multithreading in certain applications?"
      ],
      "metadata": {
        "id": "44DNW2BWjWT5"
      }
    },
    {
      "cell_type": "code",
      "source": [
        "#1. How can you open a file for writing in Python and write a string to it ?\n",
        "file = open (\"file.txt\",\"w\")\n",
        "file.write(\"Please do yoga everyday\\n\")\n",
        "file.write(\"Take out atleast 30 mins from your busy schedule\\n\")\n",
        "file.write(\"Yoga keeps our body and mind healthy\\n\")\n",
        "file.write(\"We should take care of our mind as well as our body\\n\")\n",
        "file.close()"
      ],
      "metadata": {
        "id": "iPCpKfPYADCp"
      },
      "execution_count": null,
      "outputs": []
    },
    {
      "cell_type": "code",
      "source": [
        "#2.  Write a Python program to read the contents of a file and print each line.\n",
        "file = open(\"file.txt\",\"r\")\n",
        "file.seek(0)\n",
        "print(file.read())\n",
        "file.close()\n"
      ],
      "metadata": {
        "id": "-FC_DfREBplX"
      },
      "execution_count": null,
      "outputs": []
    },
    {
      "cell_type": "code",
      "source": [
        "#3.How would you handle a case where the file doesn't exist while trying to open it for reading?\n",
        "try :\n",
        "  f = open(\"file1.txt\",\"r\")\n",
        "except Exception as e:\n",
        "  print(\"File does not exist\",e)"
      ],
      "metadata": {
        "id": "SIAukBA0HHZ1"
      },
      "execution_count": null,
      "outputs": []
    },
    {
      "cell_type": "code",
      "source": [
        "#4.Write a Python script that reads from one file and writes its content to another file.\n",
        "import shutil\n",
        "f2 = open(\"file1.txt\",\"w\")\n",
        "shutil.copy(\"file.txt\",\"file1.txt\")"
      ],
      "metadata": {
        "id": "eiqF2Z2JK5qx"
      },
      "execution_count": null,
      "outputs": []
    },
    {
      "cell_type": "code",
      "source": [
        "#5.How would you catch and handle division by zero error in Python ?\n",
        "try :\n",
        "  20/0\n",
        "except ZeroDivisionError as e:\n",
        "  print (\"Error !!! Result is undefined & the type of the error is :\",e)\n",
        "  print(\"Python beautifully handles exceptions.It shows the Error message & immediatele get back to work for the execution of the next instruction\")"
      ],
      "metadata": {
        "id": "UKdzBN8iTjae"
      },
      "execution_count": null,
      "outputs": []
    },
    {
      "cell_type": "code",
      "source": [],
      "metadata": {
        "id": "mILgAsG1Vmjc"
      },
      "execution_count": null,
      "outputs": []
    },
    {
      "cell_type": "code",
      "source": [
        "#6.  Write a Python program that logs an error message to a log file when a division by zero exception occurs.\n",
        "\n",
        "try :\n",
        "  a = int(input(\"Enter a value a:\"))\n",
        "  b = int(input(\"Enter a value b:\"))\n",
        "  c = a/b\n",
        "  print(\" The quotient is:\",c)\n",
        "except ZeroDivisionError :\n",
        "  print(\"Undefined\")\n",
        "\n"
      ],
      "metadata": {
        "id": "oVP7rnf9Vmq7"
      },
      "execution_count": null,
      "outputs": []
    },
    {
      "cell_type": "code",
      "source": [
        "#7.How do you log information at different levels (INFO, ERROR, WARNING) in Python using the logging module ?\n"
      ],
      "metadata": {
        "id": "gBeVRUch8ao0"
      },
      "execution_count": null,
      "outputs": []
    },
    {
      "cell_type": "code",
      "source": [
        "#8. Write a program to handle a file opening error using exception handling.\n",
        "try:\n",
        " f = open(\"file_new.txt\",\"r\")\n",
        "except FileNotFoundError as e:\n",
        "  print(\"File does not exist\")\n"
      ],
      "metadata": {
        "id": "0zqkxhXjAod-"
      },
      "execution_count": null,
      "outputs": []
    },
    {
      "cell_type": "code",
      "source": [
        "#9.How can you read a file line by line and store its content in a list in Python?"
      ],
      "metadata": {
        "id": "2HlZP8RACwZ6"
      },
      "execution_count": null,
      "outputs": []
    },
    {
      "cell_type": "markdown",
      "source": [],
      "metadata": {
        "id": "nD2qwaszO79x"
      }
    },
    {
      "cell_type": "code",
      "source": [
        "#10. How can you append data to an existing file in Python ?\n",
        "file = open(\"file.txt\",\"a\")\n",
        "file.write(\"I love doing Yoga\\n\")\n",
        "file = open(\"file.txt\",\"r\")\n",
        "print(file.read())"
      ],
      "metadata": {
        "id": "e6fKOcyMC4oF"
      },
      "execution_count": null,
      "outputs": []
    },
    {
      "cell_type": "code",
      "source": [
        "#11.Write a Python program that uses a try-except block to handle an error when attempting to access a\n",
        "#dictionary key that doesn't exist.\n",
        "employee = {\"Name\":\"Piyali\" , \"Qualification\" :\"M.E\",\"Age\" : 50}\n",
        "try :\n",
        "  key_not_found = employee[\"address\"]\n",
        "  print(\"Details of the employee is\", employee)\n",
        "except KeyError as e :\n",
        "  print(\"Key does not exist\",e)\n"
      ],
      "metadata": {
        "id": "_R1B4fnpEddy"
      },
      "execution_count": null,
      "outputs": []
    },
    {
      "cell_type": "code",
      "source": [
        "#12.Write a program that demonstrates using multiple except blocks to handle different types of exceptions\n",
        "try :\n",
        "  a = int(input(\"Enter a value a:\"))\n",
        "  b = int(input(\"Enter a value b:\"))\n",
        "  c = a/b\n",
        "  print(\" The quotient is:\",c)\n",
        "except (ValueError,ZeroDivisionError) :\n",
        "  print(\"Undefined\")\n"
      ],
      "metadata": {
        "id": "ZZFJMH3cYjUh"
      },
      "execution_count": null,
      "outputs": []
    },
    {
      "cell_type": "code",
      "source": [
        "#13.How would you check if a file exists before attempting to read it in Python ?\n",
        "try :\n",
        "  f = open(\"new.txt\",\"r\")\n",
        "except FileNotFoundError as e :\n",
        "  print(\"File does not exist\")\n"
      ],
      "metadata": {
        "id": "gmZjS1aSZqyI"
      },
      "execution_count": null,
      "outputs": []
    },
    {
      "cell_type": "code",
      "source": [
        "#14. Write a program that uses the logging module to log both informational and error messages"
      ],
      "metadata": {
        "id": "GGWOJ7RRaqG3"
      },
      "execution_count": null,
      "outputs": []
    },
    {
      "cell_type": "code",
      "source": [
        "#17. Write a Python program to create and write a list of numbers to a file, one number per line\n",
        "f1 = open(\"list_no.txt\",\"w\")\n",
        "f1.write(\"100\\n\")\n",
        "f1.write(\"200\\n\")\n",
        "f1.write(\"300\\n\")\n",
        "f2 = open(\"list_no.txt\",\"r\")\n",
        "print(f2.read())\n",
        "f1.close()\n"
      ],
      "metadata": {
        "id": "8v3ChwTCjE_w"
      },
      "execution_count": null,
      "outputs": []
    },
    {
      "cell_type": "code",
      "source": [
        "#19.Write a program that handles both IndexError and KeyError using a try-except block\n",
        "employee = {\"Name\":\"Piyali\" , \"Qualification\" :\"M.E\",\"Age\" : 50}\n",
        "try :\n",
        "  key_not_found = employee[\"address\"]\n",
        "  index_not_found = employee[4]\n",
        "  print(\"Details of the employee is\", employee)\n",
        "except (IndexError,KeyError) as e :\n",
        "  print(\"Key & Index do not exist\",e)\n"
      ],
      "metadata": {
        "id": "afyTaKKJdTVs"
      },
      "execution_count": null,
      "outputs": []
    },
    {
      "cell_type": "code",
      "source": [
        "#21. Write a Python program that reads a file and prints the number of occurrences of a specific word\n",
        "file=open(\"file.txt\",\"r\")\n",
        "count = 0\n",
        "for i in file :\n",
        "  print (i)\n",
        "\n",
        "  if a == \"yoga\":\n",
        "    count = count + i\n",
        "    print(\" Yoga apperas\", count ,\"times\")\n"
      ],
      "metadata": {
        "id": "xZa-YhJzk0cL"
      },
      "execution_count": null,
      "outputs": []
    },
    {
      "cell_type": "code",
      "source": [
        "#23.Write a Python program that writes to a log file when an error occurs during file handling.\n",
        "employee = {\"Name\":\"Piyali\" , \"Qualification\" :\"M.E\",\"Age\" : 50}\n",
        "try :\n",
        "  key_not_found = employee[\"address\"]\n",
        "  index_not_found = employee[4]\n",
        "  print(\"Details of the employee is\", employee)\n",
        "except (IndexError,KeyError) as e :\n",
        "  print(\"Key & Index do not exist\",e)\n"
      ],
      "metadata": {
        "id": "LFfYj5wFeGjb"
      },
      "execution_count": null,
      "outputs": []
    }
  ]
}